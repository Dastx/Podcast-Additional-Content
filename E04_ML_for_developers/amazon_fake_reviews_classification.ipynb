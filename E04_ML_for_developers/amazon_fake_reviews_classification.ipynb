{
 "cells": [
  {
   "cell_type": "markdown",
   "id": "1d039a5b",
   "metadata": {},
   "source": [
    "# Классификация фейковых отзывов Amazon: Введение в машинное обучение\n",
    "\n",
    "## Цель проекта\n",
    "Создаем простую модель машинного обучения для классификации фейковых отзывов Amazon. Проект рассчитан на опытных разработчиков, которые хорошо знают программирование, но не знакомы с ML.\n",
    "\n",
    "## Что мы изучим:\n",
    "- Основные концепции машинного обучения\n",
    "- Обработка текстовых данных\n",
    "- Векторизация текста (TF-IDF)\n",
    "- Логистическая регрессия\n",
    "- Метрики оценки моделей\n",
    "- Интерпретация результатов"
   ]
  },
  {
   "cell_type": "markdown",
   "id": "3d1b589d",
   "metadata": {},
   "source": [
    "## 1. Импорт библиотек и загрузка данных\n",
    "\n",
    "Начнем с импорта необходимых библиотек. В мире ML используются специализированные инструменты:"
   ]
  },
  {
   "cell_type": "code",
   "execution_count": 3,
   "id": "31777849",
   "metadata": {},
   "outputs": [
    {
     "name": "stdout",
     "output_type": "stream",
     "text": [
      "Библиотеки успешно импортированы!\n"
     ]
    }
   ],
   "source": [
    "# Основные библиотеки для работы с данными\n",
    "import pandas as pd  # Как Excel, но в коде - для работы с таблицами\n",
    "import numpy as np   # Математические операции над массивами\n",
    "\n",
    "# Библиотеки для машинного обучения\n",
    "from sklearn.model_selection import train_test_split  # Разделение данных\n",
    "from sklearn.feature_extraction.text import TfidfVectorizer  # Преобразование текста в числа\n",
    "from sklearn.linear_model import LogisticRegression  # Наша модель\n",
    "from sklearn.metrics import accuracy_score, classification_report, confusion_matrix  # Метрики\n",
    "\n",
    "# Для обработки текста\n",
    "import re\n",
    "import string\n",
    "\n",
    "# Для визуализации\n",
    "import matplotlib.pyplot as plt\n",
    "import seaborn as sns\n",
    "\n",
    "# Настройка отображения\n",
    "plt.style.use('seaborn-v0_8')\n",
    "pd.set_option('display.max_columns', None)\n",
    "pd.set_option('display.max_colwidth', 100)\n",
    "\n",
    "print(\"Библиотеки успешно импортированы!\")"
   ]
  },
  {
   "cell_type": "code",
   "execution_count": 5,
   "id": "1b7f7e60",
   "metadata": {},
   "outputs": [
    {
     "name": "stderr",
     "output_type": "stream",
     "text": [
      "c:\\Users\\igor\\AppData\\Local\\Programs\\Python\\Python312\\Lib\\site-packages\\tqdm\\auto.py:21: TqdmWarning: IProgress not found. Please update jupyter and ipywidgets. See https://ipywidgets.readthedocs.io/en/stable/user_install.html\n",
      "  from .autonotebook import tqdm as notebook_tqdm\n"
     ]
    },
    {
     "name": "stdout",
     "output_type": "stream",
     "text": [
      "Downloading from https://www.kaggle.com/api/v1/datasets/download/mexwell/fake-reviews-dataset?dataset_version_number=1...\n"
     ]
    },
    {
     "name": "stderr",
     "output_type": "stream",
     "text": [
      "100%|██████████| 4.78M/4.78M [00:03<00:00, 1.48MB/s]"
     ]
    },
    {
     "name": "stdout",
     "output_type": "stream",
     "text": [
      "Extracting files...\n",
      "Path to dataset files: C:\\Users\\igor\\.cache\\kagglehub\\datasets\\mexwell\\fake-reviews-dataset\\versions\\1\n"
     ]
    },
    {
     "name": "stderr",
     "output_type": "stream",
     "text": [
      "\n"
     ]
    }
   ],
   "source": [
    "import kagglehub\n",
    "\n",
    "import kaggle\n",
    "# Download latest version\n",
    "path = kagglehub.dataset_download(\"mexwell/fake-reviews-dataset\")\n",
    "\n",
    "print(\"Path to dataset files:\", path)"
   ]
  },
  {
   "cell_type": "markdown",
   "id": "1a615046",
   "metadata": {},
   "source": [
    "### Загрузка данных\n",
    "\n",
    "**Для разработчиков:** Данные в ML - это как база данных, но структурированная специально для обучения алгоритмов."
   ]
  },
  {
   "cell_type": "code",
   "execution_count": null,
   "id": "f1f7ece1",
   "metadata": {},
   "outputs": [
    {
     "name": "stdout",
     "output_type": "stream",
     "text": [
      "Данные загружены успешно!\n",
      "Размер датасета: 40432 отзывов, 4 колонок\n"
     ]
    }
   ],
   "source": [
    "\n",
    "# Загрузим данные (предполагаем, что файл уже скачан)\n",
    "# Замените путь на актуальный путь к файлу с данными\n",
    "try:\n",
    "    # Попробуем загрузить данные\n",
    "    df = pd.read_csv(path + '\\\\' +'fake reviews dataset.csv')\n",
    "    print(f\"Данные загружены успешно!\")\n",
    "    print(f\"Размер датасета: {df.shape[0]} отзывов, {df.shape[1]} колонок\")\n",
    "except FileNotFoundError:\n",
    "    print(\"Файл не найден. Создаем демо-данные для примера...\")\n",
    "    \n",
    "    # Создаем синтетические данные для демонстрации\n",
    "    np.random.seed(42)\n",
    "    \n",
    "    real_reviews = [\n",
    "        \"Great product, exactly as described. Fast shipping and good quality.\",\n",
    "        \"Love this item! It works perfectly and the price is reasonable.\",\n",
    "        \"Good value for money. The product is solid and well-made.\",\n",
    "        \"Excellent customer service. The product arrived quickly and in perfect condition.\",\n",
    "        \"This product exceeded my expectations. Highly recommend!\",\n",
    "        \"Quality is good, but shipping took longer than expected.\",\n",
    "        \"The product is okay, not amazing but does the job.\",\n",
    "        \"Fair price for what you get. Product works as advertised.\"\n",
    "    ]\n",
    "    \n",
    "    fake_reviews = [\n",
    "        \"Amazing! Best product ever! 5 stars! Buy now!\",\n",
    "        \"Perfect! Incredible! Outstanding! Must have!\",\n",
    "        \"Wow! Fantastic! Excellent! Great deal!\",\n",
    "        \"Super! Awesome! Perfect! Highly recommended!\",\n",
    "        \"Best purchase ever! Amazing quality! Perfect!\",\n",
    "        \"Incredible product! Perfect! Five stars!\",\n",
    "        \"Outstanding! Amazing! Perfect quality!\",\n",
    "        \"Fantastic! Perfect! Best ever!\"\n",
    "    ]\n",
    "    \n",
    "    # Создаем DataFrame\n",
    "    reviews = real_reviews * 50 + fake_reviews * 50  # Увеличиваем количество\n",
    "    labels = [0] * (len(real_reviews) * 50) + [1] * (len(fake_reviews) * 50)  # 0 = real, 1 = fake\n",
    "    \n",
    "    df = pd.DataFrame({\n",
    "        'text_': reviews,\n",
    "        'label': labels,\n",
    "        'rating': np.random.choice([1, 2, 3, 4, 5], len(reviews))\n",
    "    })\n",
    "    \n",
    "    print(f\"Демо-данные созданы: {df.shape[0]} отзывов\")"
   ]
  },
  {
   "cell_type": "markdown",
   "id": "942dd94f",
   "metadata": {},
   "source": [
    "## 2. Разведочный анализ данных (EDA)\n",
    "\n",
    "**Аналогия для разработчиков:** Это как code review, но для данных - мы изучаем, что у нас есть, прежде чем начать работать."
   ]
  },
  {
   "cell_type": "code",
   "execution_count": 9,
   "id": "40fc210d",
   "metadata": {},
   "outputs": [
    {
     "name": "stdout",
     "output_type": "stream",
     "text": [
      "=== СТРУКТУРА ДАННЫХ ===\n",
      "Размер: (40432, 4)\n",
      "Колонки: ['category', 'rating', 'label', 'text_']\n",
      "\n",
      "=== ПЕРВЫЕ 5 СТРОК ===\n"
     ]
    },
    {
     "data": {
      "text/html": [
       "<div>\n",
       "<style scoped>\n",
       "    .dataframe tbody tr th:only-of-type {\n",
       "        vertical-align: middle;\n",
       "    }\n",
       "\n",
       "    .dataframe tbody tr th {\n",
       "        vertical-align: top;\n",
       "    }\n",
       "\n",
       "    .dataframe thead th {\n",
       "        text-align: right;\n",
       "    }\n",
       "</style>\n",
       "<table border=\"1\" class=\"dataframe\">\n",
       "  <thead>\n",
       "    <tr style=\"text-align: right;\">\n",
       "      <th></th>\n",
       "      <th>category</th>\n",
       "      <th>rating</th>\n",
       "      <th>label</th>\n",
       "      <th>text_</th>\n",
       "    </tr>\n",
       "  </thead>\n",
       "  <tbody>\n",
       "    <tr>\n",
       "      <th>0</th>\n",
       "      <td>Home_and_Kitchen_5</td>\n",
       "      <td>5.0</td>\n",
       "      <td>CG</td>\n",
       "      <td>Love this!  Well made, sturdy, and very comfortable.  I love it!Very pretty</td>\n",
       "    </tr>\n",
       "    <tr>\n",
       "      <th>1</th>\n",
       "      <td>Home_and_Kitchen_5</td>\n",
       "      <td>5.0</td>\n",
       "      <td>CG</td>\n",
       "      <td>love it, a great upgrade from the original.  I've had mine for a couple of years</td>\n",
       "    </tr>\n",
       "    <tr>\n",
       "      <th>2</th>\n",
       "      <td>Home_and_Kitchen_5</td>\n",
       "      <td>5.0</td>\n",
       "      <td>CG</td>\n",
       "      <td>This pillow saved my back. I love the look and feel of this pillow.</td>\n",
       "    </tr>\n",
       "    <tr>\n",
       "      <th>3</th>\n",
       "      <td>Home_and_Kitchen_5</td>\n",
       "      <td>1.0</td>\n",
       "      <td>CG</td>\n",
       "      <td>Missing information on how to use it, but it is a great product for the price!  I</td>\n",
       "    </tr>\n",
       "    <tr>\n",
       "      <th>4</th>\n",
       "      <td>Home_and_Kitchen_5</td>\n",
       "      <td>5.0</td>\n",
       "      <td>CG</td>\n",
       "      <td>Very nice set. Good quality. We have had the set for two months now and have not been</td>\n",
       "    </tr>\n",
       "  </tbody>\n",
       "</table>\n",
       "</div>"
      ],
      "text/plain": [
       "             category  rating label  \\\n",
       "0  Home_and_Kitchen_5     5.0    CG   \n",
       "1  Home_and_Kitchen_5     5.0    CG   \n",
       "2  Home_and_Kitchen_5     5.0    CG   \n",
       "3  Home_and_Kitchen_5     1.0    CG   \n",
       "4  Home_and_Kitchen_5     5.0    CG   \n",
       "\n",
       "                                                                                   text_  \n",
       "0            Love this!  Well made, sturdy, and very comfortable.  I love it!Very pretty  \n",
       "1       love it, a great upgrade from the original.  I've had mine for a couple of years  \n",
       "2                    This pillow saved my back. I love the look and feel of this pillow.  \n",
       "3      Missing information on how to use it, but it is a great product for the price!  I  \n",
       "4  Very nice set. Good quality. We have had the set for two months now and have not been  "
      ]
     },
     "metadata": {},
     "output_type": "display_data"
    },
    {
     "name": "stdout",
     "output_type": "stream",
     "text": [
      "\n",
      "=== ИНФОРМАЦИЯ О ТИПАХ ДАННЫХ ===\n",
      "<class 'pandas.core.frame.DataFrame'>\n",
      "RangeIndex: 40432 entries, 0 to 40431\n",
      "Data columns (total 4 columns):\n",
      " #   Column    Non-Null Count  Dtype  \n",
      "---  ------    --------------  -----  \n",
      " 0   category  40432 non-null  object \n",
      " 1   rating    40432 non-null  float64\n",
      " 2   label     40432 non-null  object \n",
      " 3   text_     40432 non-null  object \n",
      "dtypes: float64(1), object(3)\n",
      "memory usage: 1.2+ MB\n",
      "None\n",
      "\n",
      "=== ПРОПУЩЕННЫЕ ЗНАЧЕНИЯ ===\n",
      "category    0\n",
      "rating      0\n",
      "label       0\n",
      "text_       0\n",
      "dtype: int64\n"
     ]
    }
   ],
   "source": [
    "# Базовая информация о данных\n",
    "print(\"=== СТРУКТУРА ДАННЫХ ===\")\n",
    "print(f\"Размер: {df.shape}\")\n",
    "print(f\"Колонки: {list(df.columns)}\")\n",
    "print()\n",
    "\n",
    "print(\"=== ПЕРВЫЕ 5 СТРОК ===\")\n",
    "display(df.head())\n",
    "print()\n",
    "\n",
    "print(\"=== ИНФОРМАЦИЯ О ТИПАХ ДАННЫХ ===\")\n",
    "print(df.info())\n",
    "print()\n",
    "\n",
    "print(\"=== ПРОПУЩЕННЫЕ ЗНАЧЕНИЯ ===\")\n",
    "print(df.isnull().sum())"
   ]
  },
  {
   "cell_type": "code",
   "execution_count": 10,
   "id": "1a763db2",
   "metadata": {},
   "outputs": [
    {
     "name": "stdout",
     "output_type": "stream",
     "text": [
      "=== РАСПРЕДЕЛЕНИЕ КЛАССОВ ===\n",
      "0 = Настоящие отзывы, 1 = Фейковые отзывы\n",
      "label\n",
      "CG    20216\n",
      "OR    20216\n",
      "Name: count, dtype: int64\n",
      "\n",
      "=== ПРОЦЕНТНОЕ СООТНОШЕНИЕ ===\n",
      "label\n",
      "CG    50.0\n",
      "OR    50.0\n",
      "Name: proportion, dtype: float64\n"
     ]
    },
    {
     "data": {
      "image/png": "[encoded data removed]",
      "text/plain": [
       "<Figure size 800x500 with 1 Axes>"
      ]
     },
     "metadata": {},
     "output_type": "display_data"
    }
   ],
   "source": [
    "# Анализ целевой переменной (то, что мы пытаемся предсказать)\n",
    "print(\"=== РАСПРЕДЕЛЕНИЕ КЛАССОВ ===\")\n",
    "print(\"0 = Настоящие отзывы, 1 = Фейковые отзывы\")\n",
    "print(df['label'].value_counts())\n",
    "print()\n",
    "\n",
    "# Процентное соотношение\n",
    "print(\"=== ПРОЦЕНТНОЕ СООТНОШЕНИЕ ===\")\n",
    "print(df['label'].value_counts(normalize=True) * 100)\n",
    "\n",
    "# Визуализация\n",
    "plt.figure(figsize=(8, 5))\n",
    "sns.countplot(data=df, x='label')\n",
    "plt.title('Распределение классов отзывов')\n",
    "plt.xlabel('Класс (0=Настоящие, 1=Фейковые)')\n",
    "plt.ylabel('Количество')\n",
    "plt.show()"
   ]
  },
  {
   "cell_type": "code",
   "execution_count": 12,
   "id": "6398cef3",
   "metadata": {},
   "outputs": [
    {
     "name": "stdout",
     "output_type": "stream",
     "text": [
      "=== СТАТИСТИКА ДЛИНЫ ОТЗЫВОВ ===\n",
      "      review_length                                                     \\\n",
      "              count        mean         std   min    25%    50%    75%   \n",
      "label                                                                    \n",
      "CG          20216.0  305.573506  307.037430  24.0   96.0  174.0  383.0   \n",
      "OR          20216.0  396.970419  418.428047  28.0  121.0  224.0  498.0   \n",
      "\n",
      "              word_count                                                      \n",
      "          max      count       mean        std  min   25%   50%   75%    max  \n",
      "label                                                                         \n",
      "CG     1717.0    20216.0  61.288237  61.799015  1.0  19.0  35.0  77.0  318.0  \n",
      "OR     2827.0    20216.0  73.642610  76.078420  5.0  23.0  42.0  93.0  373.0  \n"
     ]
    },
    {
     "data": {
      "image/png": "[encoded data removed]",
      "text/plain": [
       "<Figure size 1500x500 with 2 Axes>"
      ]
     },
     "metadata": {},
     "output_type": "display_data"
    }
   ],
   "source": [
    "# Анализ длины отзывов\n",
    "df['review_length'] = df['text_'].str.len()\n",
    "df['word_count'] = df['text_'].str.split().str.len()\n",
    "\n",
    "print(\"=== СТАТИСТИКА ДЛИНЫ ОТЗЫВОВ ===\")\n",
    "print(df.groupby('label')[['review_length', 'word_count']].describe())\n",
    "\n",
    "# Визуализация длины отзывов\n",
    "fig, axes = plt.subplots(1, 2, figsize=(15, 5))\n",
    "\n",
    "# Распределение длины символов\n",
    "for label in [0, 1]:\n",
    "    subset = df[df['label'] == label]\n",
    "    axes[0].hist(subset['review_length'], alpha=0.7, \n",
    "                label=f'Класс {label}', bins=30)\n",
    "axes[0].set_title('Распределение длины отзывов (символы)')\n",
    "axes[0].set_xlabel('Длина в символах')\n",
    "axes[0].set_ylabel('Частота')\n",
    "axes[0].legend()\n",
    "\n",
    "# Распределение количества слов\n",
    "for label in [0, 1]:\n",
    "    subset = df[df['label'] == label]\n",
    "    axes[1].hist(subset['word_count'], alpha=0.7, \n",
    "                label=f'Класс {label}', bins=30)\n",
    "axes[1].set_title('Распределение количества слов')\n",
    "axes[1].set_xlabel('Количество слов')\n",
    "axes[1].set_ylabel('Частота')\n",
    "axes[1].legend()\n",
    "\n",
    "plt.tight_layout()\n",
    "plt.show()"
   ]
  },
  {
   "cell_type": "markdown",
   "id": "cd8f8291",
   "metadata": {},
   "source": [
    "## 3. Предобработка данных и очистка текста\n",
    "\n",
    "**Для разработчиков:** Это как санитизация входных данных - мы очищаем и стандартизируем текст перед обработкой."
   ]
  },
  {
   "cell_type": "code",
   "execution_count": 13,
   "id": "5466ca3f",
   "metadata": {},
   "outputs": [
    {
     "name": "stdout",
     "output_type": "stream",
     "text": [
      "Очистка текста...\n",
      "=== ПРИМЕР ОЧИСТКИ ===\n",
      "\n",
      "Оригинал 1: Love this!  Well made, sturdy, and very comfortable.  I love it!Very pretty\n",
      "Очищенный 1: love this well made sturdy and very comfortable i love itvery pretty\n",
      "--------------------------------------------------\n",
      "\n",
      "Оригинал 2: love it, a great upgrade from the original.  I've had mine for a couple of years\n",
      "Очищенный 2: love it a great upgrade from the original ive had mine for a couple of years\n",
      "--------------------------------------------------\n",
      "\n",
      "Оригинал 3: This pillow saved my back. I love the look and feel of this pillow.\n",
      "Очищенный 3: this pillow saved my back i love the look and feel of this pillow\n",
      "--------------------------------------------------\n"
     ]
    }
   ],
   "source": [
    "def clean_text(text):\n",
    "    \"\"\"\n",
    "    Функция для очистки текста.\n",
    "    Аналогично валидации и очистке пользовательского ввода.\n",
    "    \"\"\"\n",
    "    # Преобразуем в строку (на случай NaN)\n",
    "    text = str(text)\n",
    "    \n",
    "    # Приводим к нижнему регистру\n",
    "    text = text.lower()\n",
    "    \n",
    "    # Удаляем HTML теги (если есть)\n",
    "    text = re.sub(r'<.*?>', '', text)\n",
    "    \n",
    "    # Удаляем URL\n",
    "    text = re.sub(r'http\\S+|www\\S+|https\\S+', '', text, flags=re.MULTILINE)\n",
    "    \n",
    "    # Удаляем знаки пунктуации\n",
    "    text = text.translate(str.maketrans('', '', string.punctuation))\n",
    "    \n",
    "    # Удаляем цифры\n",
    "    text = re.sub(r'\\d+', '', text)\n",
    "    \n",
    "    # Удаляем лишние пробелы\n",
    "    text = ' '.join(text.split())\n",
    "    \n",
    "    return text\n",
    "\n",
    "# Применяем очистку\n",
    "print(\"Очистка текста...\")\n",
    "df['cleaned_text'] = df['text_'].apply(clean_text)\n",
    "\n",
    "# Сравним до и после\n",
    "print(\"=== ПРИМЕР ОЧИСТКИ ===\")\n",
    "for i in range(3):\n",
    "    print(f\"\\nОригинал {i+1}: {df['text_'].iloc[i]}\")\n",
    "    print(f\"Очищенный {i+1}: {df['cleaned_text'].iloc[i]}\")\n",
    "    print(\"-\" * 50)"
   ]
  },
  {
   "cell_type": "markdown",
   "id": "8d93bdfa",
   "metadata": {},
   "source": [
    "## 4. Векторизация текста с помощью TF-IDF\n",
    "\n",
    "**Ключевая концепция ML:** Компьютеры не понимают текст, они работают только с числами. TF-IDF превращает текст в числовые векторы.\n",
    "\n",
    "**Аналогия:** Это как создание хеш-таблицы для каждого слова, где значение показывает важность слова в документе."
   ]
  },
  {
   "cell_type": "code",
   "execution_count": 14,
   "id": "5da012a5",
   "metadata": {},
   "outputs": [
    {
     "name": "stdout",
     "output_type": "stream",
     "text": [
      "=== ЧТО ТАКОЕ TF-IDF? ===\n",
      "TF (Term Frequency): частота слова в документе\n",
      "IDF (Inverse Document Frequency): обратная частота документа\n",
      "TF-IDF = TF × IDF\n",
      "\n",
      "Простыми словами: часто встречающиеся везде слова (the, and, is) получают низкий вес,\n",
      "а уникальные для конкретного документа слова - высокий вес.\n",
      "\n",
      "Параметры векторизатора:\n",
      "- max_features: 1000 (как размер словаря)\n",
      "- stop_words: english (убираем служебные слова)\n",
      "- ngram_range: (1, 2) (отдельные слова + биграммы)\n",
      "- min_df: 2 (минимальная частота)\n",
      "- max_df: 0.8 (максимальная частота)\n"
     ]
    }
   ],
   "source": [
    "# TF-IDF - Term Frequency-Inverse Document Frequency\n",
    "# TF: как часто слово встречается в документе\n",
    "# IDF: насколько редким является слово во всем корпусе\n",
    "\n",
    "print(\"=== ЧТО ТАКОЕ TF-IDF? ===\")\n",
    "print(\"TF (Term Frequency): частота слова в документе\")\n",
    "print(\"IDF (Inverse Document Frequency): обратная частота документа\")\n",
    "print(\"TF-IDF = TF × IDF\")\n",
    "print()\n",
    "print(\"Простыми словами: часто встречающиеся везде слова (the, and, is) получают низкий вес,\")\n",
    "print(\"а уникальные для конкретного документа слова - высокий вес.\")\n",
    "print()\n",
    "\n",
    "# Создаем векторизатор\n",
    "vectorizer = TfidfVectorizer(\n",
    "    max_features=1000,  # Максимум 1000 наиболее важных слов\n",
    "    stop_words='english',  # Убираем стоп-слова (the, and, is, etc.)\n",
    "    ngram_range=(1, 2),  # Используем отдельные слова и биграммы\n",
    "    min_df=2,  # Слово должно встречаться минимум в 2 документах\n",
    "    max_df=0.8  # Игнорируем слова, которые встречаются в >80% документов\n",
    ")\n",
    "\n",
    "print(\"Параметры векторизатора:\")\n",
    "print(f\"- max_features: {vectorizer.max_features} (как размер словаря)\")\n",
    "print(f\"- stop_words: {vectorizer.stop_words} (убираем служебные слова)\")\n",
    "print(f\"- ngram_range: {vectorizer.ngram_range} (отдельные слова + биграммы)\")\n",
    "print(f\"- min_df: {vectorizer.min_df} (минимальная частота)\")\n",
    "print(f\"- max_df: {vectorizer.max_df} (максимальная частота)\")"
   ]
  },
  {
   "cell_type": "code",
   "execution_count": 15,
   "id": "c9e7b00e",
   "metadata": {},
   "outputs": [
    {
     "name": "stdout",
     "output_type": "stream",
     "text": [
      "Преобразование текста в числовые векторы...\n",
      "Размер матрицы признаков: (40432, 1000)\n",
      "Это означает: 40432 документов × 1000 уникальных слов/биграмм\n",
      "Целевая переменная: 40432 меток\n",
      "\n",
      "Примеры слов в словаре: ['able', 'absolutely', 'accurate', 'acting', 'acting good', 'acting great', 'action', 'actors', 'actually', 'adapter', 'add', 'added', 'addition', 'adjust', 'adjustable', 'admit', 'advertised', 'age', 'ago', 'air']\n",
      "Последние слова в словаре: ['world', 'worn', 'worry', 'worth', 'wouldnt', 'wow', 'write', 'writer', 'writing', 'written', 'wrong', 'year', 'year old', 'years', 'years ago', 'yes', 'youll', 'young', 'youre', 'zipper']\n",
      "\n",
      "=== ПРИМЕР ВЕКТОРИЗАЦИИ ===\n",
      "Исходный текст: 'love this well made sturdy and very comfortable i love itvery pretty'\n",
      "Размер вектора: 1000\n",
      "Ненулевых элементов: 4\n",
      "\n",
      "Топ-10 слов по важности в этом документе:\n",
      "  love: 0.6042\n",
      "  sturdy: 0.4877\n",
      "  pretty: 0.4514\n",
      "  comfortable: 0.4397\n"
     ]
    }
   ],
   "source": [
    "# Преобразуем текст в числовые векторы\n",
    "print(\"Преобразование текста в числовые векторы...\")\n",
    "X = vectorizer.fit_transform(df['cleaned_text'])\n",
    "y = df['label']\n",
    "\n",
    "print(f\"Размер матрицы признаков: {X.shape}\")\n",
    "print(f\"Это означает: {X.shape[0]} документов × {X.shape[1]} уникальных слов/биграмм\")\n",
    "print(f\"Целевая переменная: {y.shape[0]} меток\")\n",
    "print()\n",
    "\n",
    "# Посмотрим на словарь\n",
    "feature_names = vectorizer.get_feature_names_out()\n",
    "print(f\"Примеры слов в словаре: {list(feature_names[:20])}\")\n",
    "print(f\"Последние слова в словаре: {list(feature_names[-20:])}\")\n",
    "print()\n",
    "\n",
    "# Покажем, как выглядит один документ в числовом виде\n",
    "print(\"=== ПРИМЕР ВЕКТОРИЗАЦИИ ===\")\n",
    "sample_idx = 0\n",
    "sample_text = df['cleaned_text'].iloc[sample_idx]\n",
    "sample_vector = X[sample_idx].toarray()[0]\n",
    "\n",
    "print(f\"Исходный текст: '{sample_text}'\")\n",
    "print(f\"Размер вектора: {len(sample_vector)}\")\n",
    "print(f\"Ненулевых элементов: {np.count_nonzero(sample_vector)}\")\n",
    "print()\n",
    "\n",
    "# Найдем слова с наибольшими весами в этом документе\n",
    "word_weights = [(feature_names[i], sample_vector[i]) \n",
    "                for i in range(len(sample_vector)) if sample_vector[i] > 0]\n",
    "word_weights.sort(key=lambda x: x[1], reverse=True)\n",
    "\n",
    "print(\"Топ-10 слов по важности в этом документе:\")\n",
    "for word, weight in word_weights[:10]:\n",
    "    print(f\"  {word}: {weight:.4f}\")"
   ]
  },
  {
   "cell_type": "markdown",
   "id": "561708e2",
   "metadata": {},
   "source": [
    "## 5. Разделение данных на обучающую и тестовую выборки\n",
    "\n",
    "**Ключевая концепция ML:** Никогда не тестируем модель на тех же данных, на которых обучали!\n",
    "\n",
    "**Аналогия для разработчиков:** Это как unit-тесты - мы тестируем код на данных, которые не использовались при разработке."
   ]
  },
  {
   "cell_type": "code",
   "execution_count": 16,
   "id": "ff49dbe5",
   "metadata": {},
   "outputs": [
    {
     "name": "stdout",
     "output_type": "stream",
     "text": [
      "=== РАЗДЕЛЕНИЕ ДАННЫХ ===\n",
      "Обучающая выборка: 32345 документов\n",
      "Тестовая выборка: 8087 документов\n",
      "Размерность признаков: 1000\n",
      "\n",
      "=== РАСПРЕДЕЛЕНИЕ КЛАССОВ ===\n",
      "Обучающая выборка:\n",
      "label\n",
      "CG    0.499985\n",
      "OR    0.500015\n",
      "Name: proportion, dtype: float64\n",
      "\n",
      "Тестовая выборка:\n",
      "label\n",
      "CG    0.500062\n",
      "OR    0.499938\n",
      "Name: proportion, dtype: float64\n",
      "\n",
      "✅ Распределение классов сохранено благодаря stratify=y\n"
     ]
    }
   ],
   "source": [
    "# Разделяем данные\n",
    "X_train, X_test, y_train, y_test = train_test_split(\n",
    "    X, y, \n",
    "    test_size=0.2,     # 20% данных для тестирования\n",
    "    random_state=42,   # Для воспроизводимости результатов\n",
    "    stratify=y         # Сохраняем пропорции классов\n",
    ")\n",
    "\n",
    "print(\"=== РАЗДЕЛЕНИЕ ДАННЫХ ===\")\n",
    "print(f\"Обучающая выборка: {X_train.shape[0]} документов\")\n",
    "print(f\"Тестовая выборка: {X_test.shape[0]} документов\")\n",
    "print(f\"Размерность признаков: {X_train.shape[1]}\")\n",
    "print()\n",
    "\n",
    "print(\"=== РАСПРЕДЕЛЕНИЕ КЛАССОВ ===\")\n",
    "print(\"Обучающая выборка:\")\n",
    "print(y_train.value_counts(normalize=True).sort_index())\n",
    "print()\n",
    "print(\"Тестовая выборка:\")\n",
    "print(y_test.value_counts(normalize=True).sort_index())\n",
    "print()\n",
    "\n",
    "print(\"✅ Распределение классов сохранено благодаря stratify=y\")"
   ]
  },
  {
   "cell_type": "markdown",
   "id": "1fe7b01c",
   "metadata": {},
   "source": [
    "## 6. Создание и обучение модели логистической регрессии\n",
    "\n",
    "**Почему логистическая регрессия?**\n",
    "- Простая и интерпретируемая\n",
    "- Хорошо работает с текстовыми данными\n",
    "- Дает вероятности, а не только классы\n",
    "- Быстрая в обучении и предсказании\n",
    "\n",
    "**Аналогия:** Это как функция, которая принимает множество параметров и возвращает вероятность от 0 до 1."
   ]
  },
  {
   "cell_type": "code",
   "execution_count": 17,
   "id": "7d55fa52",
   "metadata": {},
   "outputs": [
    {
     "name": "stdout",
     "output_type": "stream",
     "text": [
      "=== СОЗДАНИЕ МОДЕЛИ ===\n",
      "Параметры модели:\n",
      "- max_iter: 1000 (сколько раз пытаемся улучшить модель)\n",
      "- C: 1.0 (чем меньше, тем проще модель)\n",
      "- random_state: 42 (для воспроизводимости)\n",
      "\n",
      "Обучение модели...\n",
      "✅ Модель обучена!\n",
      "\n",
      "=== ИНФОРМАЦИЯ О ОБУЧЕННОЙ МОДЕЛИ ===\n",
      "Количество итераций до сходимости: 28\n",
      "Количество признаков: 1000\n",
      "Intercept (смещение): 0.2986\n"
     ]
    }
   ],
   "source": [
    "# Создаем модель\n",
    "print(\"=== СОЗДАНИЕ МОДЕЛИ ===\")\n",
    "model = LogisticRegression(\n",
    "    random_state=42,\n",
    "    max_iter=1000,  # Максимальное количество итераций\n",
    "    C=1.0           # Параметр регуляризации (как \"строгость\" модели)\n",
    ")\n",
    "\n",
    "print(\"Параметры модели:\")\n",
    "print(f\"- max_iter: {model.max_iter} (сколько раз пытаемся улучшить модель)\")\n",
    "print(f\"- C: {model.C} (чем меньше, тем проще модель)\")\n",
    "print(f\"- random_state: {model.random_state} (для воспроизводимости)\")\n",
    "print()\n",
    "\n",
    "# Обучаем модель\n",
    "print(\"Обучение модели...\")\n",
    "model.fit(X_train, y_train)\n",
    "print(\"✅ Модель обучена!\")\n",
    "print()\n",
    "\n",
    "# Информация о модели после обучения\n",
    "print(\"=== ИНФОРМАЦИЯ О ОБУЧЕННОЙ МОДЕЛИ ===\")\n",
    "print(f\"Количество итераций до сходимости: {model.n_iter_[0]}\")\n",
    "print(f\"Количество признаков: {len(model.coef_[0])}\")\n",
    "print(f\"Intercept (смещение): {model.intercept_[0]:.4f}\")"
   ]
  },
  {
   "cell_type": "markdown",
   "id": "7cf472bb",
   "metadata": {},
   "source": [
    "## 7. Оценка модели и метрики\n",
    "\n",
    "**Для разработчиков:** Это как тестирование производительности - мы измеряем, насколько хорошо работает наша \"функция\"."
   ]
  },
  {
   "cell_type": "code",
   "execution_count": 18,
   "id": "064c2932",
   "metadata": {},
   "outputs": [
    {
     "name": "stdout",
     "output_type": "stream",
     "text": [
      "=== РЕЗУЛЬТАТЫ МОДЕЛИ ===\n",
      "Точность (Accuracy): 0.8290 (82.90%)\n",
      "\n",
      "=== ДЕТАЛЬНЫЙ ОТЧЕТ ===\n",
      "              precision    recall  f1-score   support\n",
      "\n",
      "   Настоящие       0.83      0.82      0.83      4044\n",
      "    Фейковые       0.83      0.83      0.83      4043\n",
      "\n",
      "    accuracy                           0.83      8087\n",
      "   macro avg       0.83      0.83      0.83      8087\n",
      "weighted avg       0.83      0.83      0.83      8087\n",
      "\n",
      "\n",
      "=== ОБЪЯСНЕНИЕ МЕТРИК ===\n",
      "Precision (Точность): из всех предсказанных как фейк, сколько действительно фейк\n",
      "Recall (Полнота): из всех реальных фейков, сколько мы нашли\n",
      "F1-score: гармоническое среднее precision и recall\n",
      "Support: количество примеров каждого класса в тестовой выборке\n"
     ]
    }
   ],
   "source": [
    "# Делаем предсказания\n",
    "y_pred = model.predict(X_test)\n",
    "y_pred_proba = model.predict_proba(X_test)[:, 1]  # Вероятности для класса 1 (фейк)\n",
    "\n",
    "# Базовые метрики\n",
    "accuracy = accuracy_score(y_test, y_pred)\n",
    "\n",
    "print(\"=== РЕЗУЛЬТАТЫ МОДЕЛИ ===\")\n",
    "print(f\"Точность (Accuracy): {accuracy:.4f} ({accuracy*100:.2f}%)\")\n",
    "print()\n",
    "\n",
    "print(\"=== ДЕТАЛЬНЫЙ ОТЧЕТ ===\")\n",
    "print(classification_report(y_test, y_pred, \n",
    "                          target_names=['Настоящие', 'Фейковые']))\n",
    "\n",
    "print(\"\\n=== ОБЪЯСНЕНИЕ МЕТРИК ===\")\n",
    "print(\"Precision (Точность): из всех предсказанных как фейк, сколько действительно фейк\")\n",
    "print(\"Recall (Полнота): из всех реальных фейков, сколько мы нашли\")\n",
    "print(\"F1-score: гармоническое среднее precision и recall\")\n",
    "print(\"Support: количество примеров каждого класса в тестовой выборке\")"
   ]
  },
  {
   "cell_type": "code",
   "execution_count": 19,
   "id": "a0f0f806",
   "metadata": {},
   "outputs": [
    {
     "data": {
      "image/png": "[encoded data removed]",
      "text/plain": [
       "<Figure size 800x600 with 2 Axes>"
      ]
     },
     "metadata": {},
     "output_type": "display_data"
    },
    {
     "name": "stdout",
     "output_type": "stream",
     "text": [
      "=== ИНТЕРПРЕТАЦИЯ МАТРИЦЫ ОШИБОК ===\n",
      "True Negatives (TN): 3332 - правильно определили как настоящие\n",
      "False Positives (FP): 712 - ошибочно определили как фейковые\n",
      "False Negatives (FN): 671 - пропустили фейковые\n",
      "True Positives (TP): 3372 - правильно определили как фейковые\n",
      "\n",
      "Точность (Precision) = TP/(TP+FP) = 3372/4084 = 0.8257\n",
      "Полнота (Recall) = TP/(TP+FN) = 3372/4043 = 0.8340\n"
     ]
    }
   ],
   "source": [
    "# Матрица ошибок (Confusion Matrix)\n",
    "from sklearn.metrics import confusion_matrix\n",
    "\n",
    "cm = confusion_matrix(y_test, y_pred)\n",
    "\n",
    "plt.figure(figsize=(8, 6))\n",
    "sns.heatmap(cm, annot=True, fmt='d', cmap='Blues',\n",
    "            xticklabels=['Настоящие', 'Фейковые'],\n",
    "            yticklabels=['Настоящие', 'Фейковые'])\n",
    "plt.title('Матрица ошибок')\n",
    "plt.ylabel('Истинные классы')\n",
    "plt.xlabel('Предсказанные классы')\n",
    "plt.show()\n",
    "\n",
    "print(\"=== ИНТЕРПРЕТАЦИЯ МАТРИЦЫ ОШИБОК ===\")\n",
    "tn, fp, fn, tp = cm.ravel()\n",
    "print(f\"True Negatives (TN): {tn} - правильно определили как настоящие\")\n",
    "print(f\"False Positives (FP): {fp} - ошибочно определили как фейковые\")\n",
    "print(f\"False Negatives (FN): {fn} - пропустили фейковые\")\n",
    "print(f\"True Positives (TP): {tp} - правильно определили как фейковые\")\n",
    "print()\n",
    "print(f\"Точность (Precision) = TP/(TP+FP) = {tp}/{tp+fp} = {tp/(tp+fp):.4f}\")\n",
    "print(f\"Полнота (Recall) = TP/(TP+FN) = {tp}/{tp+fn} = {tp/(tp+fn):.4f}\")"
   ]
  },
  {
   "cell_type": "markdown",
   "id": "74f7eaba",
   "metadata": {},
   "source": [
    "## 8. Анализ важности признаков\n",
    "\n",
    "**Преимущество логистической регрессии:** Мы можем понять, какие слова модель считает наиболее важными для классификации."
   ]
  },
  {
   "cell_type": "code",
   "execution_count": 20,
   "id": "ed3739b7",
   "metadata": {},
   "outputs": [
    {
     "name": "stdout",
     "output_type": "stream",
     "text": [
      "=== САМЫЕ ВАЖНЫЕ СЛОВА ДЛЯ ОПРЕДЕЛЕНИЯ ФЕЙКОВ (положительные коэффициенты) ===\n",
      "having: 2.9686\n",
      "making: 3.1375\n",
      "soon: 3.1738\n",
      "believe: 3.1932\n",
      "coming: 3.2099\n",
      "maybe: 3.2318\n",
      "far: 3.2660\n",
      "end: 3.4494\n",
      "easily: 3.4945\n",
      "isnt: 3.6208\n",
      "quite: 3.6929\n",
      "plus: 3.7266\n",
      "wont: 3.7597\n",
      "actually: 3.8418\n",
      "instead: 3.9628\n",
      "\n",
      "=== САМЫЕ ВАЖНЫЕ СЛОВА ДЛЯ ОПРЕДЕЛЕНИЯ НАСТОЯЩИХ ОТЗЫВОВ (отрицательные коэффициенты) ===\n",
      "reason gave: -5.3832\n",
      "admit: -5.0127\n",
      "problem: -4.8581\n",
      "bought friend: -4.8515\n",
      "iti: -4.7364\n",
      "wide: -4.5803\n",
      "couple: -4.5431\n",
      "replace: -4.5423\n",
      "reason: -4.5106\n",
      "downside: -4.3759\n",
      "bought son: -4.3169\n",
      "story told: -4.1040\n",
      "plastic parts: -3.9641\n",
      "lot fun: -3.8589\n",
      "onei: -3.7663\n"
     ]
    },
    {
     "data": {
      "image/png": "[encoded data removed]",
      "text/plain": [
       "<Figure size 1600x800 with 2 Axes>"
      ]
     },
     "metadata": {},
     "output_type": "display_data"
    }
   ],
   "source": [
    "# Получаем коэффициенты модели\n",
    "feature_names = vectorizer.get_feature_names_out()\n",
    "coefficients = model.coef_[0]\n",
    "\n",
    "# Создаем DataFrame для анализа\n",
    "feature_importance = pd.DataFrame({\n",
    "    'feature': feature_names,\n",
    "    'coefficient': coefficients\n",
    "})\n",
    "\n",
    "# Сортируем по важности\n",
    "feature_importance = feature_importance.sort_values('coefficient')\n",
    "\n",
    "print(\"=== САМЫЕ ВАЖНЫЕ СЛОВА ДЛЯ ОПРЕДЕЛЕНИЯ ФЕЙКОВ (положительные коэффициенты) ===\")\n",
    "top_fake_indicators = feature_importance.tail(15)\n",
    "for _, row in top_fake_indicators.iterrows():\n",
    "    print(f\"{row['feature']}: {row['coefficient']:.4f}\")\n",
    "\n",
    "print(\"\\n=== САМЫЕ ВАЖНЫЕ СЛОВА ДЛЯ ОПРЕДЕЛЕНИЯ НАСТОЯЩИХ ОТЗЫВОВ (отрицательные коэффициенты) ===\")\n",
    "top_real_indicators = feature_importance.head(15)\n",
    "for _, row in top_real_indicators.iterrows():\n",
    "    print(f\"{row['feature']}: {row['coefficient']:.4f}\")\n",
    "\n",
    "# Визуализация\n",
    "fig, (ax1, ax2) = plt.subplots(1, 2, figsize=(16, 8))\n",
    "\n",
    "# Топ слова для фейков\n",
    "top_fake = feature_importance.tail(10)\n",
    "ax1.barh(range(len(top_fake)), top_fake['coefficient'], color='red', alpha=0.7)\n",
    "ax1.set_yticks(range(len(top_fake)))\n",
    "ax1.set_yticklabels(top_fake['feature'])\n",
    "ax1.set_title('Топ-10 индикаторов фейковых отзывов')\n",
    "ax1.set_xlabel('Коэффициент')\n",
    "\n",
    "# Топ слова для настоящих отзывов\n",
    "top_real = feature_importance.head(10)\n",
    "ax2.barh(range(len(top_real)), top_real['coefficient'], color='green', alpha=0.7)\n",
    "ax2.set_yticks(range(len(top_real)))\n",
    "ax2.set_yticklabels(top_real['feature'])\n",
    "ax2.set_title('Топ-10 индикаторов настоящих отзывов')\n",
    "ax2.set_xlabel('Коэффициент')\n",
    "\n",
    "plt.tight_layout()\n",
    "plt.show()"
   ]
  },
  {
   "cell_type": "markdown",
   "id": "42e74022",
   "metadata": {},
   "source": [
    "## 9. Применение модели к новым отзывам\n",
    "\n",
    "**Практическое применение:** Теперь мы можем использовать обученную модель для классификации новых отзывов."
   ]
  },
  {
   "cell_type": "code",
   "execution_count": 21,
   "id": "0cb6321b",
   "metadata": {},
   "outputs": [
    {
     "name": "stdout",
     "output_type": "stream",
     "text": [
      "=== ТЕСТИРОВАНИЕ НА НОВЫХ ОТЗЫВАХ ===\n",
      "\n",
      "--- Отзыв 1 ---\n",
      "Текст: 'This product is absolutely amazing! Perfect quality! Five stars! Best purchase ever!'\n",
      "Предсказание: Фейковый\n",
      "Вероятность фейка: 0.8066 (80.66%)\n",
      "Уверенность: 0.8066 (80.66%)\n",
      "Ключевые слова:\n",
      "  'stars': 0.6914 → фейк\n",
      "  'absolutely': 0.6088 → фейк\n",
      "  'quality': -0.4932 → настоящий\n",
      "  'purchase': 0.2398 → фейк\n",
      "  'perfect': 0.2357 → фейк\n",
      "\n",
      "--- Отзыв 2 ---\n",
      "Текст: 'The product is decent. It works as described, though the shipping took a bit longer than expected. Overall satisfied with the purchase.'\n",
      "Предсказание: Фейковый\n",
      "Вероятность фейка: 0.9309 (93.09%)\n",
      "Уверенность: 0.9309 (93.09%)\n",
      "Ключевые слова:\n",
      "  'overall': 0.7318 → фейк\n",
      "  'bit': -0.6694 → настоящий\n",
      "  'longer': 0.6627 → фейк\n",
      "  'decent': 0.4563 → фейк\n",
      "  'took': 0.4025 → фейк\n",
      "\n",
      "--- Отзыв 3 ---\n",
      "Текст: 'AMAZING! PERFECT! INCREDIBLE! BUY NOW! BEST EVER!'\n",
      "Предсказание: Фейковый\n",
      "Вероятность фейка: 0.7870 (78.70%)\n",
      "Уверенность: 0.7870 (78.70%)\n",
      "Ключевые слова:\n",
      "  'buy': 0.8218 → фейк\n",
      "  'perfect': 0.3381 → фейк\n",
      "  'best': -0.1349 → настоящий\n",
      "  'amazing': -0.0169 → настоящий\n",
      "\n",
      "--- Отзыв 4 ---\n",
      "Текст: 'Good value for the price. The build quality is solid and it serves its purpose well. Would recommend to others.'\n",
      "Предсказание: Настоящий\n",
      "Вероятность фейка: 0.2128 (21.28%)\n",
      "Уверенность: 0.7872 (78.72%)\n",
      "Ключевые слова:\n",
      "  'build': 1.0414 → фейк\n",
      "  'good value': -0.7251 → настоящий\n",
      "  'solid': -0.6420 → настоящий\n",
      "  'value': -0.6114 → настоящий\n",
      "  'recommend': -0.4738 → настоящий\n",
      "\n",
      "--- Отзыв 5 ---\n",
      "Текст: 'Fantastic! Outstanding! Perfect! Amazing quality! Must buy!'\n",
      "Предсказание: Фейковый\n",
      "Вероятность фейка: 0.7949 (79.49%)\n",
      "Уверенность: 0.7949 (79.49%)\n",
      "Ключевые слова:\n",
      "  'fantastic': 0.6932 → фейк\n",
      "  'buy': 0.6851 → фейк\n",
      "  'quality': -0.5898 → настоящий\n",
      "  'perfect': 0.2818 → фейк\n",
      "  'amazing': -0.0141 → настоящий\n"
     ]
    }
   ],
   "source": [
    "def predict_review(text, model, vectorizer, threshold=0.5):\n",
    "    \"\"\"\n",
    "    Функция для предсказания класса нового отзыва\n",
    "    \"\"\"\n",
    "    # Очищаем текст\n",
    "    cleaned = clean_text(text)\n",
    "    \n",
    "    # Векторизуем\n",
    "    vectorized = vectorizer.transform([cleaned])\n",
    "    \n",
    "    # Получаем вероятность\n",
    "    probability = model.predict_proba(vectorized)[0, 1]\n",
    "    \n",
    "    # Делаем предсказание\n",
    "    prediction = 1 if probability > threshold else 0\n",
    "    \n",
    "    return {\n",
    "        'prediction': prediction,\n",
    "        'probability': probability,\n",
    "        'confidence': max(probability, 1 - probability),\n",
    "        'label': 'Фейковый' if prediction == 1 else 'Настоящий'\n",
    "    }\n",
    "\n",
    "# Тестируем на новых примерах\n",
    "test_reviews = [\n",
    "    \"This product is absolutely amazing! Perfect quality! Five stars! Best purchase ever!\",\n",
    "    \"The product is decent. It works as described, though the shipping took a bit longer than expected. Overall satisfied with the purchase.\",\n",
    "    \"AMAZING! PERFECT! INCREDIBLE! BUY NOW! BEST EVER!\",\n",
    "    \"Good value for the price. The build quality is solid and it serves its purpose well. Would recommend to others.\",\n",
    "    \"Fantastic! Outstanding! Perfect! Amazing quality! Must buy!\"\n",
    "]\n",
    "\n",
    "print(\"=== ТЕСТИРОВАНИЕ НА НОВЫХ ОТЗЫВАХ ===\")\n",
    "for i, review in enumerate(test_reviews, 1):\n",
    "    result = predict_review(review, model, vectorizer)\n",
    "    \n",
    "    print(f\"\\n--- Отзыв {i} ---\")\n",
    "    print(f\"Текст: '{review}'\")\n",
    "    print(f\"Предсказание: {result['label']}\")\n",
    "    print(f\"Вероятность фейка: {result['probability']:.4f} ({result['probability']*100:.2f}%)\")\n",
    "    print(f\"Уверенность: {result['confidence']:.4f} ({result['confidence']*100:.2f}%)\")\n",
    "    \n",
    "    # Анализ ключевых слов\n",
    "    cleaned = clean_text(review)\n",
    "    vectorized = vectorizer.transform([cleaned])\n",
    "    \n",
    "    # Находим активные признаки\n",
    "    active_features = vectorized.toarray()[0]\n",
    "    feature_names = vectorizer.get_feature_names_out()\n",
    "    \n",
    "    active_words = [(feature_names[j], active_features[j], model.coef_[0][j]) \n",
    "                    for j in range(len(active_features)) if active_features[j] > 0]\n",
    "    \n",
    "    if active_words:\n",
    "        # Сортируем по влиянию на решение\n",
    "        active_words.sort(key=lambda x: abs(x[1] * x[2]), reverse=True)\n",
    "        print(\"Ключевые слова:\")\n",
    "        for word, tfidf, coef in active_words[:5]:\n",
    "            influence = tfidf * coef\n",
    "            direction = \"→ фейк\" if influence > 0 else \"→ настоящий\"\n",
    "            print(f\"  '{word}': {influence:.4f} {direction}\")"
   ]
  },
  {
   "cell_type": "markdown",
   "id": "902e5f99",
   "metadata": {},
   "source": [
    "## 10. Выводы и следующие шаги\n",
    "\n",
    "### Что мы изучили:\n",
    "\n",
    "1. **Векторизация текста** - превращение слов в числа с помощью TF-IDF\n",
    "2. **Логистическая регрессия** - простой но мощный алгоритм классификации\n",
    "3. **Метрики оценки** - как измерить качество модели\n",
    "4. **Интерпретируемость** - понимание того, как модель принимает решения\n",
    "\n",
    "### Ограничения нашей модели:\n",
    "\n",
    "- Простая обработка текста (можно улучшить лемматизацией)\n",
    "- Только TF-IDF (можно попробовать эмбеддинги)\n",
    "- Простая модель (можно попробовать более сложные алгоритмы)\n",
    "- Маленький датасет (для реального применения нужно больше данных)\n",
    "\n",
    "### Следующие шаги для улучшения:\n",
    "\n",
    "1. **Больше данных** - увеличить размер датасета\n",
    "2. **Лучшая обработка текста** - лемматизация, учет эмоций\n",
    "3. **Продвинутые алгоритмы** - Random Forest, XGBoost, нейронные сети\n",
    "4. **Кросс-валидация** - более надежная оценка модели\n",
    "5. **Гиперпараметры** - подбор оптимальных параметров\n",
    "\n",
    "### Для подкаста:\n",
    "\n",
    "Этот пример отлично показывает основы ML:\n",
    "- **Данные** → **Обработка** → **Признаки** → **Модель** → **Оценка** → **Применение**\n",
    "- Важность понимания данных перед построением модели\n",
    "- Разница между обучением и тестированием\n",
    "- Интерпретируемость vs сложность модели"
   ]
  },
  {
   "cell_type": "code",
   "execution_count": 22,
   "id": "d344f3e5",
   "metadata": {},
   "outputs": [
    {
     "name": "stdout",
     "output_type": "stream",
     "text": [
      "=== ИНТЕРАКТИВНЫЙ КЛАССИФИКАТОР ГОТОВ К РАБОТЕ! ===\n",
      "\n",
      "Вы можете использовать функцию predict_review() для классификации любых отзывов:\n",
      "\n",
      "Пример:\n",
      "result = predict_review('Your review text here', model, vectorizer)\n",
      "print(result)\n",
      "\n",
      "Модель обучена и готова к использованию! 🎉\n",
      "\n",
      "📊 Финальная статистика:\n",
      "- Точность на тестовых данных: 82.90%\n",
      "- Размер словаря: 1000 слов/биграмм\n",
      "- Обучено на 32345 отзывах\n",
      "- Протестировано на 8087 отзывах\n"
     ]
    }
   ],
   "source": [
    "# Финальная демонстрация - интерактивный классификатор\n",
    "print(\"=== ИНТЕРАКТИВНЫЙ КЛАССИФИКАТОР ГОТОВ К РАБОТЕ! ===\")\n",
    "print(\"\\nВы можете использовать функцию predict_review() для классификации любых отзывов:\")\n",
    "print(\"\\nПример:\")\n",
    "print(\"result = predict_review('Your review text here', model, vectorizer)\")\n",
    "print(\"print(result)\")\n",
    "print()\n",
    "print(\"Модель обучена и готова к использованию! 🎉\")\n",
    "print()\n",
    "print(\"📊 Финальная статистика:\")\n",
    "print(f\"- Точность на тестовых данных: {accuracy:.2%}\")\n",
    "print(f\"- Размер словаря: {len(feature_names)} слов/биграмм\")\n",
    "print(f\"- Обучено на {X_train.shape[0]} отзывах\")\n",
    "print(f\"- Протестировано на {X_test.shape[0]} отзывах\")"
   ]
  },
  {
   "cell_type": "code",
   "execution_count": 24,
   "id": "ace03079",
   "metadata": {},
   "outputs": [
    {
     "name": "stdout",
     "output_type": "stream",
     "text": [
      "{'prediction': 1, 'probability': 0.5675600503156908, 'confidence': 0.5675600503156908, 'label': 'Фейковый'}\n"
     ]
    }
   ],
   "source": [
    "result = predict_review('Doubtful, but okay', model, vectorizer)\n",
    "print(result)"
   ]
  },
  {
   "cell_type": "code",
   "execution_count": 31,
   "id": "c2aef183",
   "metadata": {},
   "outputs": [
    {
     "name": "stdout",
     "output_type": "stream",
     "text": [
      "{'prediction': 1, 'probability': 0.5675600503156908, 'confidence': 0.5675600503156908, 'label': 'Фейковый'}\n"
     ]
    }
   ],
   "source": [
    "result = predict_review('Doubtful, but okay', model, vectorizer)\n",
    "print(result)"
   ]
  }
 ],
 "metadata": {
  "kernelspec": {
   "display_name": "Python 3",
   "language": "python",
   "name": "python3"
  },
  "language_info": {
   "codemirror_mode": {
    "name": "ipython",
    "version": 3
   },
   "file_extension": ".py",
   "mimetype": "text/x-python",
   "name": "python",
   "nbconvert_exporter": "python",
   "pygments_lexer": "ipython3",
   "version": "3.12.3"
  }
 },
 "nbformat": 4,
 "nbformat_minor": 5
}
